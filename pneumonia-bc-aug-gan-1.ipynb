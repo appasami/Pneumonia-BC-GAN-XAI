{
 "cells": [
  {
   "cell_type": "code",
   "execution_count": 1,
   "id": "e5644301",
   "metadata": {
    "_cell_guid": "b1076dfc-b9ad-4769-8c92-a6c4dae69d19",
    "_uuid": "8f2839f25d086af736a60e9eeb907d3b93b6e0e5",
    "execution": {
     "iopub.execute_input": "2025-07-21T08:51:47.926314Z",
     "iopub.status.busy": "2025-07-21T08:51:47.925987Z",
     "iopub.status.idle": "2025-07-21T16:59:54.782956Z",
     "shell.execute_reply": "2025-07-21T16:59:54.782223Z"
    },
    "papermill": {
     "duration": 29286.908807,
     "end_time": "2025-07-21T16:59:54.831388",
     "exception": false,
     "start_time": "2025-07-21T08:51:47.922581",
     "status": "completed"
    },
    "tags": []
   },
   "outputs": [
    {
     "name": "stderr",
     "output_type": "stream",
     "text": [
      "2025-07-21 08:51:51.582684: E external/local_xla/xla/stream_executor/cuda/cuda_fft.cc:477] Unable to register cuFFT factory: Attempting to register factory for plugin cuFFT when one has already been registered\n",
      "WARNING: All log messages before absl::InitializeLog() is called are written to STDERR\n",
      "E0000 00:00:1753087911.799354      19 cuda_dnn.cc:8310] Unable to register cuDNN factory: Attempting to register factory for plugin cuDNN when one has already been registered\n",
      "E0000 00:00:1753087911.863297      19 cuda_blas.cc:1418] Unable to register cuBLAS factory: Attempting to register factory for plugin cuBLAS when one has already been registered\n",
      "I0000 00:00:1753088053.973705      19 gpu_device.cc:2022] Created device /job:localhost/replica:0/task:0/device:GPU:0 with 15513 MB memory:  -> device: 0, name: Tesla P100-PCIE-16GB, pci bus id: 0000:00:04.0, compute capability: 6.0\n"
     ]
    },
    {
     "name": "stdout",
     "output_type": "stream",
     "text": [
      "Downloading data from https://storage.googleapis.com/tensorflow/keras-applications/xception/xception_weights_tf_dim_ordering_tf_kernels_notop.h5\n",
      "\u001b[1m83683744/83683744\u001b[0m \u001b[32m━━━━━━━━━━━━━━━━━━━━\u001b[0m\u001b[37m\u001b[0m \u001b[1m3s\u001b[0m 0us/step\n",
      "Downloading data from https://storage.googleapis.com/tensorflow/keras-applications/vgg16/vgg16_weights_tf_dim_ordering_tf_kernels_notop.h5\n",
      "\u001b[1m58889256/58889256\u001b[0m \u001b[32m━━━━━━━━━━━━━━━━━━━━\u001b[0m\u001b[37m\u001b[0m \u001b[1m2s\u001b[0m 0us/step\n",
      "Downloading data from https://storage.googleapis.com/tensorflow/keras-applications/vgg19/vgg19_weights_tf_dim_ordering_tf_kernels_notop.h5\n",
      "\u001b[1m80134624/80134624\u001b[0m \u001b[32m━━━━━━━━━━━━━━━━━━━━\u001b[0m\u001b[37m\u001b[0m \u001b[1m2s\u001b[0m 0us/step\n",
      "Downloading data from https://storage.googleapis.com/tensorflow/keras-applications/resnet/resnet50_weights_tf_dim_ordering_tf_kernels_notop.h5\n",
      "\u001b[1m94765736/94765736\u001b[0m \u001b[32m━━━━━━━━━━━━━━━━━━━━\u001b[0m\u001b[37m\u001b[0m \u001b[1m2s\u001b[0m 0us/step\n",
      "Downloading data from https://storage.googleapis.com/tensorflow/keras-applications/resnet/resnet50v2_weights_tf_dim_ordering_tf_kernels_notop.h5\n",
      "\u001b[1m94668760/94668760\u001b[0m \u001b[32m━━━━━━━━━━━━━━━━━━━━\u001b[0m\u001b[37m\u001b[0m \u001b[1m3s\u001b[0m 0us/step\n",
      "Downloading data from https://storage.googleapis.com/tensorflow/keras-applications/resnet/resnet101_weights_tf_dim_ordering_tf_kernels_notop.h5\n",
      "\u001b[1m171446536/171446536\u001b[0m \u001b[32m━━━━━━━━━━━━━━━━━━━━\u001b[0m\u001b[37m\u001b[0m \u001b[1m4s\u001b[0m 0us/step\n",
      "Downloading data from https://storage.googleapis.com/tensorflow/keras-applications/resnet/resnet101v2_weights_tf_dim_ordering_tf_kernels_notop.h5\n",
      "\u001b[1m171317808/171317808\u001b[0m \u001b[32m━━━━━━━━━━━━━━━━━━━━\u001b[0m\u001b[37m\u001b[0m \u001b[1m5s\u001b[0m 0us/step\n",
      "Downloading data from https://storage.googleapis.com/tensorflow/keras-applications/resnet/resnet152_weights_tf_dim_ordering_tf_kernels_notop.h5\n",
      "\u001b[1m234698864/234698864\u001b[0m \u001b[32m━━━━━━━━━━━━━━━━━━━━\u001b[0m\u001b[37m\u001b[0m \u001b[1m6s\u001b[0m 0us/step\n",
      "Downloading data from https://storage.googleapis.com/tensorflow/keras-applications/resnet/resnet152v2_weights_tf_dim_ordering_tf_kernels_notop.h5\n",
      "\u001b[1m234545216/234545216\u001b[0m \u001b[32m━━━━━━━━━━━━━━━━━━━━\u001b[0m\u001b[37m\u001b[0m \u001b[1m6s\u001b[0m 0us/step\n",
      "Downloading data from https://storage.googleapis.com/tensorflow/keras-applications/inception_v3/inception_v3_weights_tf_dim_ordering_tf_kernels_notop.h5\n",
      "\u001b[1m87910968/87910968\u001b[0m \u001b[32m━━━━━━━━━━━━━━━━━━━━\u001b[0m\u001b[37m\u001b[0m \u001b[1m2s\u001b[0m 0us/step\n",
      "Downloading data from https://storage.googleapis.com/tensorflow/keras-applications/inception_resnet_v2/inception_resnet_v2_weights_tf_dim_ordering_tf_kernels_notop.h5\n",
      "\u001b[1m219055592/219055592\u001b[0m \u001b[32m━━━━━━━━━━━━━━━━━━━━\u001b[0m\u001b[37m\u001b[0m \u001b[1m6s\u001b[0m 0us/step\n",
      "Downloading data from https://storage.googleapis.com/tensorflow/keras-applications/mobilenet/mobilenet_1_0_224_tf_no_top.h5\n",
      "\u001b[1m17225924/17225924\u001b[0m \u001b[32m━━━━━━━━━━━━━━━━━━━━\u001b[0m\u001b[37m\u001b[0m \u001b[1m1s\u001b[0m 0us/step\n",
      "Downloading data from https://storage.googleapis.com/tensorflow/keras-applications/mobilenet_v2/mobilenet_v2_weights_tf_dim_ordering_tf_kernels_1.0_224_no_top.h5\n",
      "\u001b[1m9406464/9406464\u001b[0m \u001b[32m━━━━━━━━━━━━━━━━━━━━\u001b[0m\u001b[37m\u001b[0m \u001b[1m1s\u001b[0m 0us/step\n",
      "Downloading data from https://storage.googleapis.com/tensorflow/keras-applications/densenet/densenet121_weights_tf_dim_ordering_tf_kernels_notop.h5\n",
      "\u001b[1m29084464/29084464\u001b[0m \u001b[32m━━━━━━━━━━━━━━━━━━━━\u001b[0m\u001b[37m\u001b[0m \u001b[1m1s\u001b[0m 0us/step\n",
      "Downloading data from https://storage.googleapis.com/tensorflow/keras-applications/densenet/densenet169_weights_tf_dim_ordering_tf_kernels_notop.h5\n",
      "\u001b[1m51877672/51877672\u001b[0m \u001b[32m━━━━━━━━━━━━━━━━━━━━\u001b[0m\u001b[37m\u001b[0m \u001b[1m2s\u001b[0m 0us/step\n",
      "Downloading data from https://storage.googleapis.com/tensorflow/keras-applications/densenet/densenet201_weights_tf_dim_ordering_tf_kernels_notop.h5\n",
      "\u001b[1m74836368/74836368\u001b[0m \u001b[32m━━━━━━━━━━━━━━━━━━━━\u001b[0m\u001b[37m\u001b[0m \u001b[1m3s\u001b[0m 0us/step\n",
      "Downloading data from https://storage.googleapis.com/tensorflow/keras-applications/nasnet/NASNet-mobile-no-top.h5\n",
      "\u001b[1m19993432/19993432\u001b[0m \u001b[32m━━━━━━━━━━━━━━━━━━━━\u001b[0m\u001b[37m\u001b[0m \u001b[1m1s\u001b[0m 0us/step\n",
      "\n",
      "🔧 Training model: Xception\n",
      "Found 21224 images belonging to 2 classes.\n",
      "Found 624 images belonging to 2 classes.\n"
     ]
    },
    {
     "name": "stderr",
     "output_type": "stream",
     "text": [
      "/usr/local/lib/python3.11/dist-packages/keras/src/trainers/data_adapters/py_dataset_adapter.py:121: UserWarning: Your `PyDataset` class should call `super().__init__(**kwargs)` in its constructor. `**kwargs` can include `workers`, `use_multiprocessing`, `max_queue_size`. Do not pass these arguments to `fit()`, as they will be ignored.\n",
      "  self._warn_if_super_not_called()\n"
     ]
    },
    {
     "name": "stdout",
     "output_type": "stream",
     "text": [
      "Epoch 1/64\n"
     ]
    },
    {
     "name": "stderr",
     "output_type": "stream",
     "text": [
      "WARNING: All log messages before absl::InitializeLog() is called are written to STDERR\n",
      "I0000 00:00:1753088152.806345      57 service.cc:148] XLA service 0x7e1bd8002be0 initialized for platform CUDA (this does not guarantee that XLA will be used). Devices:\n",
      "I0000 00:00:1753088152.807683      57 service.cc:156]   StreamExecutor device (0): Tesla P100-PCIE-16GB, Compute Capability 6.0\n",
      "I0000 00:00:1753088153.872500      57 cuda_dnn.cc:529] Loaded cuDNN version 90300\n",
      "I0000 00:00:1753088158.724171      57 device_compiler.h:188] Compiled cluster using XLA!  This line is logged at most once for the lifetime of the process.\n"
     ]
    },
    {
     "name": "stdout",
     "output_type": "stream",
     "text": [
      "664/664 - 289s - 436ms/step - accuracy: 0.8868 - loss: 0.2721 - val_accuracy: 0.8750 - val_loss: 0.2748 - learning_rate: 0.0010\n",
      "Epoch 2/64\n",
      "664/664 - 264s - 398ms/step - accuracy: 0.9052 - loss: 0.2374 - val_accuracy: 0.9054 - val_loss: 0.2619 - learning_rate: 0.0010\n",
      "Epoch 3/64\n",
      "664/664 - 260s - 391ms/step - accuracy: 0.9062 - loss: 0.2288 - val_accuracy: 0.8990 - val_loss: 0.2472 - learning_rate: 0.0010\n",
      "Epoch 4/64\n",
      "664/664 - 261s - 392ms/step - accuracy: 0.9063 - loss: 0.2263 - val_accuracy: 0.8958 - val_loss: 0.2830 - learning_rate: 0.0010\n",
      "Epoch 5/64\n",
      "664/664 - 255s - 384ms/step - accuracy: 0.9092 - loss: 0.2230 - val_accuracy: 0.8974 - val_loss: 0.2613 - learning_rate: 0.0010\n",
      "Epoch 6/64\n",
      "664/664 - 260s - 391ms/step - accuracy: 0.9142 - loss: 0.2077 - val_accuracy: 0.8926 - val_loss: 0.3030 - learning_rate: 2.0000e-04\n",
      "\n",
      "🔧 Training model: VGG16\n",
      "Found 21224 images belonging to 2 classes.\n",
      "Found 624 images belonging to 2 classes.\n"
     ]
    },
    {
     "name": "stderr",
     "output_type": "stream",
     "text": [
      "/usr/local/lib/python3.11/dist-packages/keras/src/trainers/data_adapters/py_dataset_adapter.py:121: UserWarning: Your `PyDataset` class should call `super().__init__(**kwargs)` in its constructor. `**kwargs` can include `workers`, `use_multiprocessing`, `max_queue_size`. Do not pass these arguments to `fit()`, as they will be ignored.\n",
      "  self._warn_if_super_not_called()\n"
     ]
    },
    {
     "name": "stdout",
     "output_type": "stream",
     "text": [
      "Epoch 1/64\n",
      "664/664 - 264s - 398ms/step - accuracy: 0.8797 - loss: 0.3000 - val_accuracy: 0.8782 - val_loss: 0.3445 - learning_rate: 0.0010\n",
      "Epoch 2/64\n",
      "664/664 - 249s - 376ms/step - accuracy: 0.9090 - loss: 0.2255 - val_accuracy: 0.9071 - val_loss: 0.2752 - learning_rate: 0.0010\n",
      "Epoch 3/64\n",
      "664/664 - 247s - 372ms/step - accuracy: 0.9129 - loss: 0.2152 - val_accuracy: 0.9167 - val_loss: 0.2650 - learning_rate: 0.0010\n",
      "Epoch 4/64\n",
      "664/664 - 249s - 375ms/step - accuracy: 0.9143 - loss: 0.2094 - val_accuracy: 0.9071 - val_loss: 0.2938 - learning_rate: 0.0010\n",
      "Epoch 5/64\n",
      "664/664 - 250s - 376ms/step - accuracy: 0.9172 - loss: 0.2006 - val_accuracy: 0.8958 - val_loss: 0.3257 - learning_rate: 0.0010\n",
      "Epoch 6/64\n",
      "664/664 - 246s - 371ms/step - accuracy: 0.9222 - loss: 0.1885 - val_accuracy: 0.8798 - val_loss: 0.3845 - learning_rate: 2.0000e-04\n",
      "\n",
      "🔧 Training model: VGG19\n",
      "Found 21224 images belonging to 2 classes.\n",
      "Found 624 images belonging to 2 classes.\n"
     ]
    },
    {
     "name": "stderr",
     "output_type": "stream",
     "text": [
      "/usr/local/lib/python3.11/dist-packages/keras/src/trainers/data_adapters/py_dataset_adapter.py:121: UserWarning: Your `PyDataset` class should call `super().__init__(**kwargs)` in its constructor. `**kwargs` can include `workers`, `use_multiprocessing`, `max_queue_size`. Do not pass these arguments to `fit()`, as they will be ignored.\n",
      "  self._warn_if_super_not_called()\n"
     ]
    },
    {
     "name": "stdout",
     "output_type": "stream",
     "text": [
      "Epoch 1/64\n",
      "664/664 - 253s - 381ms/step - accuracy: 0.8838 - loss: 0.2866 - val_accuracy: 0.8622 - val_loss: 0.4051 - learning_rate: 0.0010\n",
      "Epoch 2/64\n",
      "664/664 - 249s - 375ms/step - accuracy: 0.9084 - loss: 0.2234 - val_accuracy: 0.8397 - val_loss: 0.4989 - learning_rate: 0.0010\n",
      "Epoch 3/64\n",
      "664/664 - 249s - 375ms/step - accuracy: 0.9117 - loss: 0.2149 - val_accuracy: 0.9199 - val_loss: 0.2494 - learning_rate: 0.0010\n",
      "Epoch 4/64\n",
      "664/664 - 255s - 384ms/step - accuracy: 0.9154 - loss: 0.2086 - val_accuracy: 0.8638 - val_loss: 0.3736 - learning_rate: 0.0010\n",
      "Epoch 5/64\n",
      "664/664 - 247s - 372ms/step - accuracy: 0.9188 - loss: 0.2002 - val_accuracy: 0.9247 - val_loss: 0.2347 - learning_rate: 0.0010\n",
      "Epoch 6/64\n",
      "664/664 - 249s - 375ms/step - accuracy: 0.9185 - loss: 0.1978 - val_accuracy: 0.9183 - val_loss: 0.2362 - learning_rate: 0.0010\n",
      "Epoch 7/64\n",
      "664/664 - 249s - 376ms/step - accuracy: 0.9191 - loss: 0.1956 - val_accuracy: 0.9135 - val_loss: 0.2997 - learning_rate: 0.0010\n",
      "Epoch 8/64\n",
      "664/664 - 256s - 386ms/step - accuracy: 0.9228 - loss: 0.1838 - val_accuracy: 0.9022 - val_loss: 0.3144 - learning_rate: 2.0000e-04\n",
      "\n",
      "🔧 Training model: ResNet50\n",
      "Found 21224 images belonging to 2 classes.\n",
      "Found 624 images belonging to 2 classes.\n"
     ]
    },
    {
     "name": "stderr",
     "output_type": "stream",
     "text": [
      "/usr/local/lib/python3.11/dist-packages/keras/src/trainers/data_adapters/py_dataset_adapter.py:121: UserWarning: Your `PyDataset` class should call `super().__init__(**kwargs)` in its constructor. `**kwargs` can include `workers`, `use_multiprocessing`, `max_queue_size`. Do not pass these arguments to `fit()`, as they will be ignored.\n",
      "  self._warn_if_super_not_called()\n"
     ]
    },
    {
     "name": "stdout",
     "output_type": "stream",
     "text": [
      "Epoch 1/64\n",
      "664/664 - 277s - 418ms/step - accuracy: 0.8995 - loss: 0.2472 - val_accuracy: 0.9247 - val_loss: 0.2081 - learning_rate: 0.0010\n",
      "Epoch 2/64\n",
      "664/664 - 244s - 367ms/step - accuracy: 0.9149 - loss: 0.2098 - val_accuracy: 0.9054 - val_loss: 0.2467 - learning_rate: 0.0010\n",
      "Epoch 3/64\n",
      "664/664 - 245s - 368ms/step - accuracy: 0.9171 - loss: 0.2000 - val_accuracy: 0.9087 - val_loss: 0.2561 - learning_rate: 0.0010\n",
      "Epoch 4/64\n",
      "664/664 - 240s - 362ms/step - accuracy: 0.9239 - loss: 0.1858 - val_accuracy: 0.9183 - val_loss: 0.2223 - learning_rate: 2.0000e-04\n",
      "\n",
      "🔧 Training model: ResNet50V2\n",
      "Found 21224 images belonging to 2 classes.\n",
      "Found 624 images belonging to 2 classes.\n"
     ]
    },
    {
     "name": "stderr",
     "output_type": "stream",
     "text": [
      "/usr/local/lib/python3.11/dist-packages/keras/src/trainers/data_adapters/py_dataset_adapter.py:121: UserWarning: Your `PyDataset` class should call `super().__init__(**kwargs)` in its constructor. `**kwargs` can include `workers`, `use_multiprocessing`, `max_queue_size`. Do not pass these arguments to `fit()`, as they will be ignored.\n",
      "  self._warn_if_super_not_called()\n"
     ]
    },
    {
     "name": "stdout",
     "output_type": "stream",
     "text": [
      "Epoch 1/64\n",
      "664/664 - 268s - 403ms/step - accuracy: 0.8955 - loss: 0.2568 - val_accuracy: 0.9103 - val_loss: 0.2396 - learning_rate: 0.0010\n",
      "Epoch 2/64\n",
      "664/664 - 244s - 367ms/step - accuracy: 0.9099 - loss: 0.2209 - val_accuracy: 0.9038 - val_loss: 0.2607 - learning_rate: 0.0010\n",
      "Epoch 3/64\n",
      "664/664 - 245s - 369ms/step - accuracy: 0.9141 - loss: 0.2132 - val_accuracy: 0.9022 - val_loss: 0.2537 - learning_rate: 0.0010\n",
      "Epoch 4/64\n",
      "664/664 - 244s - 367ms/step - accuracy: 0.9192 - loss: 0.1957 - val_accuracy: 0.9343 - val_loss: 0.2119 - learning_rate: 2.0000e-04\n",
      "Epoch 5/64\n",
      "664/664 - 254s - 383ms/step - accuracy: 0.9199 - loss: 0.1951 - val_accuracy: 0.9279 - val_loss: 0.2160 - learning_rate: 2.0000e-04\n",
      "Epoch 6/64\n",
      "664/664 - 250s - 377ms/step - accuracy: 0.9208 - loss: 0.1937 - val_accuracy: 0.9327 - val_loss: 0.2183 - learning_rate: 2.0000e-04\n",
      "Epoch 7/64\n",
      "664/664 - 251s - 377ms/step - accuracy: 0.9219 - loss: 0.1882 - val_accuracy: 0.9263 - val_loss: 0.2176 - learning_rate: 4.0000e-05\n",
      "\n",
      "🔧 Training model: ResNet101\n",
      "Found 21224 images belonging to 2 classes.\n",
      "Found 624 images belonging to 2 classes.\n"
     ]
    },
    {
     "name": "stderr",
     "output_type": "stream",
     "text": [
      "/usr/local/lib/python3.11/dist-packages/keras/src/trainers/data_adapters/py_dataset_adapter.py:121: UserWarning: Your `PyDataset` class should call `super().__init__(**kwargs)` in its constructor. `**kwargs` can include `workers`, `use_multiprocessing`, `max_queue_size`. Do not pass these arguments to `fit()`, as they will be ignored.\n",
      "  self._warn_if_super_not_called()\n"
     ]
    },
    {
     "name": "stdout",
     "output_type": "stream",
     "text": [
      "Epoch 1/64\n",
      "664/664 - 288s - 433ms/step - accuracy: 0.8919 - loss: 0.2693 - val_accuracy: 0.8910 - val_loss: 0.2889 - learning_rate: 0.0010\n",
      "Epoch 2/64\n",
      "664/664 - 256s - 386ms/step - accuracy: 0.9140 - loss: 0.2115 - val_accuracy: 0.8718 - val_loss: 0.3600 - learning_rate: 0.0010\n",
      "Epoch 3/64\n",
      "664/664 - 265s - 398ms/step - accuracy: 0.9180 - loss: 0.2000 - val_accuracy: 0.9135 - val_loss: 0.2384 - learning_rate: 0.0010\n",
      "Epoch 4/64\n",
      "664/664 - 260s - 392ms/step - accuracy: 0.9195 - loss: 0.1954 - val_accuracy: 0.9167 - val_loss: 0.2208 - learning_rate: 0.0010\n",
      "Epoch 5/64\n",
      "664/664 - 267s - 402ms/step - accuracy: 0.9232 - loss: 0.1857 - val_accuracy: 0.8029 - val_loss: 0.6697 - learning_rate: 0.0010\n",
      "Epoch 6/64\n",
      "664/664 - 260s - 392ms/step - accuracy: 0.9207 - loss: 0.1913 - val_accuracy: 0.8750 - val_loss: 0.3506 - learning_rate: 0.0010\n",
      "Epoch 7/64\n",
      "664/664 - 258s - 389ms/step - accuracy: 0.9257 - loss: 0.1765 - val_accuracy: 0.8974 - val_loss: 0.2955 - learning_rate: 2.0000e-04\n",
      "\n",
      "🔧 Training model: ResNet101V2\n",
      "Found 21224 images belonging to 2 classes.\n",
      "Found 624 images belonging to 2 classes.\n"
     ]
    },
    {
     "name": "stderr",
     "output_type": "stream",
     "text": [
      "/usr/local/lib/python3.11/dist-packages/keras/src/trainers/data_adapters/py_dataset_adapter.py:121: UserWarning: Your `PyDataset` class should call `super().__init__(**kwargs)` in its constructor. `**kwargs` can include `workers`, `use_multiprocessing`, `max_queue_size`. Do not pass these arguments to `fit()`, as they will be ignored.\n",
      "  self._warn_if_super_not_called()\n"
     ]
    },
    {
     "name": "stdout",
     "output_type": "stream",
     "text": [
      "Epoch 1/64\n",
      "664/664 - 291s - 438ms/step - accuracy: 0.8941 - loss: 0.2617 - val_accuracy: 0.8958 - val_loss: 0.2609 - learning_rate: 0.0010\n",
      "Epoch 2/64\n",
      "664/664 - 250s - 377ms/step - accuracy: 0.9116 - loss: 0.2187 - val_accuracy: 0.9103 - val_loss: 0.2572 - learning_rate: 0.0010\n",
      "Epoch 3/64\n",
      "664/664 - 256s - 385ms/step - accuracy: 0.9117 - loss: 0.2135 - val_accuracy: 0.8606 - val_loss: 0.4421 - learning_rate: 0.0010\n",
      "Epoch 4/64\n",
      "664/664 - 250s - 376ms/step - accuracy: 0.9120 - loss: 0.2127 - val_accuracy: 0.9103 - val_loss: 0.2738 - learning_rate: 0.0010\n",
      "Epoch 5/64\n",
      "664/664 - 249s - 375ms/step - accuracy: 0.9215 - loss: 0.1909 - val_accuracy: 0.9006 - val_loss: 0.3372 - learning_rate: 2.0000e-04\n",
      "\n",
      "🔧 Training model: ResNet152\n",
      "Found 21224 images belonging to 2 classes.\n",
      "Found 624 images belonging to 2 classes.\n"
     ]
    },
    {
     "name": "stderr",
     "output_type": "stream",
     "text": [
      "/usr/local/lib/python3.11/dist-packages/keras/src/trainers/data_adapters/py_dataset_adapter.py:121: UserWarning: Your `PyDataset` class should call `super().__init__(**kwargs)` in its constructor. `**kwargs` can include `workers`, `use_multiprocessing`, `max_queue_size`. Do not pass these arguments to `fit()`, as they will be ignored.\n",
      "  self._warn_if_super_not_called()\n"
     ]
    },
    {
     "name": "stdout",
     "output_type": "stream",
     "text": [
      "Epoch 1/64\n",
      "664/664 - 307s - 462ms/step - accuracy: 0.8927 - loss: 0.2635 - val_accuracy: 0.9167 - val_loss: 0.2214 - learning_rate: 0.0010\n",
      "Epoch 2/64\n",
      "664/664 - 254s - 382ms/step - accuracy: 0.9113 - loss: 0.2171 - val_accuracy: 0.9038 - val_loss: 0.2180 - learning_rate: 0.0010\n",
      "Epoch 3/64\n",
      "664/664 - 252s - 380ms/step - accuracy: 0.9169 - loss: 0.2033 - val_accuracy: 0.8750 - val_loss: 0.3429 - learning_rate: 0.0010\n",
      "Epoch 4/64\n",
      "664/664 - 257s - 387ms/step - accuracy: 0.9191 - loss: 0.1952 - val_accuracy: 0.8830 - val_loss: 0.2922 - learning_rate: 0.0010\n",
      "Epoch 5/64\n",
      "664/664 - 258s - 388ms/step - accuracy: 0.9254 - loss: 0.1795 - val_accuracy: 0.8926 - val_loss: 0.2832 - learning_rate: 2.0000e-04\n",
      "\n",
      "🔧 Training model: ResNet152V2\n",
      "Found 21224 images belonging to 2 classes.\n",
      "Found 624 images belonging to 2 classes.\n"
     ]
    },
    {
     "name": "stderr",
     "output_type": "stream",
     "text": [
      "/usr/local/lib/python3.11/dist-packages/keras/src/trainers/data_adapters/py_dataset_adapter.py:121: UserWarning: Your `PyDataset` class should call `super().__init__(**kwargs)` in its constructor. `**kwargs` can include `workers`, `use_multiprocessing`, `max_queue_size`. Do not pass these arguments to `fit()`, as they will be ignored.\n",
      "  self._warn_if_super_not_called()\n"
     ]
    },
    {
     "name": "stdout",
     "output_type": "stream",
     "text": [
      "Epoch 1/64\n",
      "664/664 - 313s - 471ms/step - accuracy: 0.8933 - loss: 0.2641 - val_accuracy: 0.9022 - val_loss: 0.2572 - learning_rate: 0.0010\n",
      "Epoch 2/64\n",
      "664/664 - 265s - 400ms/step - accuracy: 0.9108 - loss: 0.2224 - val_accuracy: 0.9103 - val_loss: 0.2617 - learning_rate: 0.0010\n",
      "Epoch 3/64\n",
      "664/664 - 256s - 386ms/step - accuracy: 0.9122 - loss: 0.2159 - val_accuracy: 0.9215 - val_loss: 0.2318 - learning_rate: 0.0010\n",
      "Epoch 4/64\n",
      "664/664 - 254s - 383ms/step - accuracy: 0.9140 - loss: 0.2081 - val_accuracy: 0.8958 - val_loss: 0.2977 - learning_rate: 0.0010\n",
      "Epoch 5/64\n",
      "664/664 - 252s - 380ms/step - accuracy: 0.9161 - loss: 0.2042 - val_accuracy: 0.8958 - val_loss: 0.3012 - learning_rate: 0.0010\n",
      "Epoch 6/64\n",
      "664/664 - 253s - 381ms/step - accuracy: 0.9209 - loss: 0.1928 - val_accuracy: 0.9119 - val_loss: 0.2322 - learning_rate: 2.0000e-04\n",
      "\n",
      "🔧 Training model: InceptionV3\n",
      "Found 21224 images belonging to 2 classes.\n",
      "Found 624 images belonging to 2 classes.\n"
     ]
    },
    {
     "name": "stderr",
     "output_type": "stream",
     "text": [
      "/usr/local/lib/python3.11/dist-packages/keras/src/trainers/data_adapters/py_dataset_adapter.py:121: UserWarning: Your `PyDataset` class should call `super().__init__(**kwargs)` in its constructor. `**kwargs` can include `workers`, `use_multiprocessing`, `max_queue_size`. Do not pass these arguments to `fit()`, as they will be ignored.\n",
      "  self._warn_if_super_not_called()\n"
     ]
    },
    {
     "name": "stdout",
     "output_type": "stream",
     "text": [
      "Epoch 1/64\n",
      "664/664 - 282s - 424ms/step - accuracy: 0.8691 - loss: 0.3144 - val_accuracy: 0.8429 - val_loss: 0.3866 - learning_rate: 0.0010\n",
      "Epoch 2/64\n",
      "664/664 - 244s - 367ms/step - accuracy: 0.8925 - loss: 0.2627 - val_accuracy: 0.8189 - val_loss: 0.4716 - learning_rate: 0.0010\n",
      "Epoch 3/64\n",
      "664/664 - 247s - 372ms/step - accuracy: 0.8976 - loss: 0.2522 - val_accuracy: 0.8750 - val_loss: 0.3366 - learning_rate: 0.0010\n",
      "Epoch 4/64\n",
      "664/664 - 245s - 369ms/step - accuracy: 0.8984 - loss: 0.2488 - val_accuracy: 0.8766 - val_loss: 0.3137 - learning_rate: 0.0010\n",
      "Epoch 5/64\n",
      "664/664 - 245s - 368ms/step - accuracy: 0.9018 - loss: 0.2411 - val_accuracy: 0.8830 - val_loss: 0.2829 - learning_rate: 0.0010\n",
      "Epoch 6/64\n",
      "664/664 - 248s - 373ms/step - accuracy: 0.9020 - loss: 0.2370 - val_accuracy: 0.8718 - val_loss: 0.3621 - learning_rate: 0.0010\n",
      "Epoch 7/64\n",
      "664/664 - 245s - 368ms/step - accuracy: 0.9048 - loss: 0.2298 - val_accuracy: 0.8622 - val_loss: 0.3928 - learning_rate: 0.0010\n",
      "Epoch 8/64\n",
      "664/664 - 245s - 369ms/step - accuracy: 0.9088 - loss: 0.2206 - val_accuracy: 0.8910 - val_loss: 0.2951 - learning_rate: 2.0000e-04\n",
      "\n",
      "🔧 Training model: InceptionResNetV2\n",
      "Found 21224 images belonging to 2 classes.\n",
      "Found 624 images belonging to 2 classes.\n"
     ]
    },
    {
     "name": "stderr",
     "output_type": "stream",
     "text": [
      "/usr/local/lib/python3.11/dist-packages/keras/src/trainers/data_adapters/py_dataset_adapter.py:121: UserWarning: Your `PyDataset` class should call `super().__init__(**kwargs)` in its constructor. `**kwargs` can include `workers`, `use_multiprocessing`, `max_queue_size`. Do not pass these arguments to `fit()`, as they will be ignored.\n",
      "  self._warn_if_super_not_called()\n"
     ]
    },
    {
     "name": "stdout",
     "output_type": "stream",
     "text": [
      "Epoch 1/64\n",
      "664/664 - 320s - 481ms/step - accuracy: 0.8650 - loss: 0.3277 - val_accuracy: 0.8654 - val_loss: 0.3293 - learning_rate: 0.0010\n",
      "Epoch 2/64\n",
      "664/664 - 257s - 387ms/step - accuracy: 0.8884 - loss: 0.2700 - val_accuracy: 0.8766 - val_loss: 0.3092 - learning_rate: 0.0010\n",
      "Epoch 3/64\n",
      "664/664 - 262s - 395ms/step - accuracy: 0.8965 - loss: 0.2506 - val_accuracy: 0.8830 - val_loss: 0.3207 - learning_rate: 0.0010\n",
      "Epoch 4/64\n",
      "664/664 - 261s - 393ms/step - accuracy: 0.8974 - loss: 0.2475 - val_accuracy: 0.8942 - val_loss: 0.2779 - learning_rate: 0.0010\n",
      "Epoch 5/64\n",
      "664/664 - 259s - 391ms/step - accuracy: 0.9016 - loss: 0.2380 - val_accuracy: 0.9022 - val_loss: 0.2762 - learning_rate: 0.0010\n",
      "Epoch 6/64\n",
      "664/664 - 260s - 391ms/step - accuracy: 0.9031 - loss: 0.2345 - val_accuracy: 0.9006 - val_loss: 0.2525 - learning_rate: 0.0010\n",
      "Epoch 7/64\n",
      "664/664 - 260s - 392ms/step - accuracy: 0.9033 - loss: 0.2338 - val_accuracy: 0.9054 - val_loss: 0.2469 - learning_rate: 0.0010\n",
      "Epoch 8/64\n",
      "664/664 - 260s - 391ms/step - accuracy: 0.9067 - loss: 0.2293 - val_accuracy: 0.9006 - val_loss: 0.2815 - learning_rate: 0.0010\n",
      "Epoch 9/64\n",
      "664/664 - 256s - 386ms/step - accuracy: 0.9049 - loss: 0.2304 - val_accuracy: 0.9022 - val_loss: 0.2636 - learning_rate: 0.0010\n",
      "Epoch 10/64\n",
      "664/664 - 256s - 385ms/step - accuracy: 0.9127 - loss: 0.2123 - val_accuracy: 0.9038 - val_loss: 0.2639 - learning_rate: 2.0000e-04\n",
      "\n",
      "🔧 Training model: MobileNet\n",
      "Found 21224 images belonging to 2 classes.\n",
      "Found 624 images belonging to 2 classes.\n"
     ]
    },
    {
     "name": "stderr",
     "output_type": "stream",
     "text": [
      "/usr/local/lib/python3.11/dist-packages/keras/src/trainers/data_adapters/py_dataset_adapter.py:121: UserWarning: Your `PyDataset` class should call `super().__init__(**kwargs)` in its constructor. `**kwargs` can include `workers`, `use_multiprocessing`, `max_queue_size`. Do not pass these arguments to `fit()`, as they will be ignored.\n",
      "  self._warn_if_super_not_called()\n"
     ]
    },
    {
     "name": "stdout",
     "output_type": "stream",
     "text": [
      "Epoch 1/64\n",
      "664/664 - 257s - 387ms/step - accuracy: 0.8967 - loss: 0.2497 - val_accuracy: 0.9215 - val_loss: 0.2238 - learning_rate: 0.0010\n",
      "Epoch 2/64\n",
      "664/664 - 256s - 386ms/step - accuracy: 0.9137 - loss: 0.2127 - val_accuracy: 0.9167 - val_loss: 0.2810 - learning_rate: 0.0010\n",
      "Epoch 3/64\n",
      "664/664 - 249s - 375ms/step - accuracy: 0.9167 - loss: 0.2017 - val_accuracy: 0.9391 - val_loss: 0.1971 - learning_rate: 0.0010\n",
      "Epoch 4/64\n",
      "664/664 - 248s - 374ms/step - accuracy: 0.9199 - loss: 0.1939 - val_accuracy: 0.8590 - val_loss: 0.4249 - learning_rate: 0.0010\n",
      "Epoch 5/64\n",
      "664/664 - 249s - 375ms/step - accuracy: 0.9203 - loss: 0.1923 - val_accuracy: 0.8654 - val_loss: 0.3960 - learning_rate: 0.0010\n",
      "Epoch 6/64\n",
      "664/664 - 249s - 375ms/step - accuracy: 0.9260 - loss: 0.1786 - val_accuracy: 0.8718 - val_loss: 0.3815 - learning_rate: 2.0000e-04\n",
      "\n",
      "🔧 Training model: MobileNetV2\n",
      "Found 21224 images belonging to 2 classes.\n",
      "Found 624 images belonging to 2 classes.\n"
     ]
    },
    {
     "name": "stderr",
     "output_type": "stream",
     "text": [
      "/usr/local/lib/python3.11/dist-packages/keras/src/trainers/data_adapters/py_dataset_adapter.py:121: UserWarning: Your `PyDataset` class should call `super().__init__(**kwargs)` in its constructor. `**kwargs` can include `workers`, `use_multiprocessing`, `max_queue_size`. Do not pass these arguments to `fit()`, as they will be ignored.\n",
      "  self._warn_if_super_not_called()\n"
     ]
    },
    {
     "name": "stdout",
     "output_type": "stream",
     "text": [
      "Epoch 1/64\n",
      "664/664 - 267s - 403ms/step - accuracy: 0.8947 - loss: 0.2532 - val_accuracy: 0.8702 - val_loss: 0.3561 - learning_rate: 0.0010\n",
      "Epoch 2/64\n",
      "664/664 - 251s - 378ms/step - accuracy: 0.9110 - loss: 0.2164 - val_accuracy: 0.8590 - val_loss: 0.3933 - learning_rate: 0.0010\n",
      "Epoch 3/64\n",
      "664/664 - 249s - 375ms/step - accuracy: 0.9157 - loss: 0.2063 - val_accuracy: 0.8381 - val_loss: 0.5028 - learning_rate: 0.0010\n",
      "Epoch 4/64\n",
      "664/664 - 248s - 373ms/step - accuracy: 0.9206 - loss: 0.1919 - val_accuracy: 0.8590 - val_loss: 0.3959 - learning_rate: 2.0000e-04\n",
      "\n",
      "🔧 Training model: DenseNet121\n",
      "Found 21224 images belonging to 2 classes.\n",
      "Found 624 images belonging to 2 classes.\n"
     ]
    },
    {
     "name": "stderr",
     "output_type": "stream",
     "text": [
      "/usr/local/lib/python3.11/dist-packages/keras/src/trainers/data_adapters/py_dataset_adapter.py:121: UserWarning: Your `PyDataset` class should call `super().__init__(**kwargs)` in its constructor. `**kwargs` can include `workers`, `use_multiprocessing`, `max_queue_size`. Do not pass these arguments to `fit()`, as they will be ignored.\n",
      "  self._warn_if_super_not_called()\n"
     ]
    },
    {
     "name": "stdout",
     "output_type": "stream",
     "text": [
      "Epoch 1/64\n",
      "664/664 - 321s - 483ms/step - accuracy: 0.8895 - loss: 0.2689 - val_accuracy: 0.8878 - val_loss: 0.2731 - learning_rate: 0.0010\n",
      "Epoch 2/64\n",
      "664/664 - 256s - 385ms/step - accuracy: 0.9060 - loss: 0.2290 - val_accuracy: 0.8942 - val_loss: 0.2773 - learning_rate: 0.0010\n",
      "Epoch 3/64\n",
      "664/664 - 263s - 397ms/step - accuracy: 0.9104 - loss: 0.2177 - val_accuracy: 0.9022 - val_loss: 0.2538 - learning_rate: 0.0010\n",
      "Epoch 4/64\n",
      "664/664 - 257s - 387ms/step - accuracy: 0.9121 - loss: 0.2130 - val_accuracy: 0.8926 - val_loss: 0.3313 - learning_rate: 0.0010\n",
      "Epoch 5/64\n",
      "664/664 - 258s - 389ms/step - accuracy: 0.9133 - loss: 0.2080 - val_accuracy: 0.9038 - val_loss: 0.2514 - learning_rate: 0.0010\n",
      "Epoch 6/64\n",
      "664/664 - 260s - 392ms/step - accuracy: 0.9152 - loss: 0.2022 - val_accuracy: 0.8750 - val_loss: 0.3916 - learning_rate: 0.0010\n",
      "Epoch 7/64\n",
      "664/664 - 259s - 389ms/step - accuracy: 0.9151 - loss: 0.2042 - val_accuracy: 0.8526 - val_loss: 0.4245 - learning_rate: 0.0010\n",
      "Epoch 8/64\n",
      "664/664 - 260s - 391ms/step - accuracy: 0.9199 - loss: 0.1908 - val_accuracy: 0.8718 - val_loss: 0.3847 - learning_rate: 2.0000e-04\n",
      "\n",
      "🔧 Training model: DenseNet169\n",
      "Found 21224 images belonging to 2 classes.\n",
      "Found 624 images belonging to 2 classes.\n"
     ]
    },
    {
     "name": "stderr",
     "output_type": "stream",
     "text": [
      "/usr/local/lib/python3.11/dist-packages/keras/src/trainers/data_adapters/py_dataset_adapter.py:121: UserWarning: Your `PyDataset` class should call `super().__init__(**kwargs)` in its constructor. `**kwargs` can include `workers`, `use_multiprocessing`, `max_queue_size`. Do not pass these arguments to `fit()`, as they will be ignored.\n",
      "  self._warn_if_super_not_called()\n"
     ]
    },
    {
     "name": "stdout",
     "output_type": "stream",
     "text": [
      "Epoch 1/64\n",
      "664/664 - 344s - 517ms/step - accuracy: 0.8945 - loss: 0.2558 - val_accuracy: 0.8766 - val_loss: 0.2859 - learning_rate: 0.0010\n",
      "Epoch 2/64\n",
      "664/664 - 260s - 391ms/step - accuracy: 0.9124 - loss: 0.2137 - val_accuracy: 0.8734 - val_loss: 0.3752 - learning_rate: 0.0010\n",
      "Epoch 3/64\n",
      "664/664 - 264s - 397ms/step - accuracy: 0.9148 - loss: 0.2072 - val_accuracy: 0.8894 - val_loss: 0.3551 - learning_rate: 0.0010\n",
      "Epoch 4/64\n",
      "664/664 - 268s - 404ms/step - accuracy: 0.9224 - loss: 0.1890 - val_accuracy: 0.8990 - val_loss: 0.3050 - learning_rate: 2.0000e-04\n",
      "\n",
      "🔧 Training model: DenseNet201\n",
      "Found 21224 images belonging to 2 classes.\n",
      "Found 624 images belonging to 2 classes.\n"
     ]
    },
    {
     "name": "stderr",
     "output_type": "stream",
     "text": [
      "/usr/local/lib/python3.11/dist-packages/keras/src/trainers/data_adapters/py_dataset_adapter.py:121: UserWarning: Your `PyDataset` class should call `super().__init__(**kwargs)` in its constructor. `**kwargs` can include `workers`, `use_multiprocessing`, `max_queue_size`. Do not pass these arguments to `fit()`, as they will be ignored.\n",
      "  self._warn_if_super_not_called()\n"
     ]
    },
    {
     "name": "stdout",
     "output_type": "stream",
     "text": [
      "Epoch 1/64\n",
      "664/664 - 363s - 547ms/step - accuracy: 0.8932 - loss: 0.2556 - val_accuracy: 0.8397 - val_loss: 0.4672 - learning_rate: 0.0010\n",
      "Epoch 2/64\n",
      "664/664 - 266s - 401ms/step - accuracy: 0.9123 - loss: 0.2146 - val_accuracy: 0.8205 - val_loss: 0.5390 - learning_rate: 0.0010\n",
      "Epoch 3/64\n",
      "664/664 - 262s - 395ms/step - accuracy: 0.9172 - loss: 0.2062 - val_accuracy: 0.8926 - val_loss: 0.2901 - learning_rate: 0.0010\n",
      "Epoch 4/64\n",
      "664/664 - 261s - 393ms/step - accuracy: 0.9197 - loss: 0.1975 - val_accuracy: 0.8846 - val_loss: 0.3150 - learning_rate: 0.0010\n",
      "Epoch 5/64\n",
      "664/664 - 262s - 395ms/step - accuracy: 0.9199 - loss: 0.1961 - val_accuracy: 0.9135 - val_loss: 0.2182 - learning_rate: 0.0010\n",
      "Epoch 6/64\n",
      "664/664 - 263s - 396ms/step - accuracy: 0.9210 - loss: 0.1933 - val_accuracy: 0.9054 - val_loss: 0.2617 - learning_rate: 0.0010\n",
      "Epoch 7/64\n",
      "664/664 - 263s - 396ms/step - accuracy: 0.9216 - loss: 0.1901 - val_accuracy: 0.8429 - val_loss: 0.5046 - learning_rate: 0.0010\n",
      "Epoch 8/64\n",
      "664/664 - 264s - 397ms/step - accuracy: 0.9256 - loss: 0.1786 - val_accuracy: 0.9054 - val_loss: 0.2941 - learning_rate: 2.0000e-04\n",
      "\n",
      "🔧 Training model: NASNetMobile\n",
      "Found 21224 images belonging to 2 classes.\n",
      "Found 624 images belonging to 2 classes.\n"
     ]
    },
    {
     "name": "stderr",
     "output_type": "stream",
     "text": [
      "/usr/local/lib/python3.11/dist-packages/keras/src/trainers/data_adapters/py_dataset_adapter.py:121: UserWarning: Your `PyDataset` class should call `super().__init__(**kwargs)` in its constructor. `**kwargs` can include `workers`, `use_multiprocessing`, `max_queue_size`. Do not pass these arguments to `fit()`, as they will be ignored.\n",
      "  self._warn_if_super_not_called()\n"
     ]
    },
    {
     "name": "stdout",
     "output_type": "stream",
     "text": [
      "Epoch 1/64\n",
      "664/664 - 327s - 493ms/step - accuracy: 0.8768 - loss: 0.2912 - val_accuracy: 0.7788 - val_loss: 0.5526 - learning_rate: 0.0010\n",
      "Epoch 2/64\n",
      "664/664 - 247s - 372ms/step - accuracy: 0.8971 - loss: 0.2525 - val_accuracy: 0.8045 - val_loss: 0.4933 - learning_rate: 0.0010\n",
      "Epoch 3/64\n",
      "664/664 - 250s - 376ms/step - accuracy: 0.8985 - loss: 0.2443 - val_accuracy: 0.8301 - val_loss: 0.4248 - learning_rate: 0.0010\n",
      "Epoch 4/64\n",
      "664/664 - 255s - 384ms/step - accuracy: 0.9011 - loss: 0.2367 - val_accuracy: 0.8077 - val_loss: 0.5354 - learning_rate: 0.0010\n",
      "Epoch 5/64\n",
      "664/664 - 252s - 380ms/step - accuracy: 0.9050 - loss: 0.2309 - val_accuracy: 0.8958 - val_loss: 0.2830 - learning_rate: 0.0010\n",
      "Epoch 6/64\n",
      "664/664 - 254s - 382ms/step - accuracy: 0.9060 - loss: 0.2271 - val_accuracy: 0.9006 - val_loss: 0.2881 - learning_rate: 0.0010\n",
      "Epoch 7/64\n",
      "664/664 - 250s - 377ms/step - accuracy: 0.9074 - loss: 0.2235 - val_accuracy: 0.8942 - val_loss: 0.2928 - learning_rate: 0.0010\n",
      "Epoch 8/64\n",
      "664/664 - 247s - 372ms/step - accuracy: 0.9120 - loss: 0.2139 - val_accuracy: 0.8830 - val_loss: 0.3061 - learning_rate: 2.0000e-04\n",
      "✅ Saved summary to /kaggle/working/classification_summary.csv\n",
      "📊 Classification Summary:\n",
      "                Model  Accuracy  Macro Precision  Macro Recall  Macro F1  \\\n",
      "0            Xception  0.899038         0.894887      0.888462  0.891449   \n",
      "1               VGG16  0.916667         0.926792      0.896581  0.908151   \n",
      "2               VGG19  0.924679         0.924318      0.914103  0.918717   \n",
      "3            ResNet50  0.924679         0.923482      0.914957  0.918868   \n",
      "4          ResNet50V2  0.934295         0.935752      0.923504  0.928960   \n",
      "5           ResNet101  0.916667         0.919720      0.901709  0.909285   \n",
      "6         ResNet101V2  0.910256         0.922134      0.888034  0.900654   \n",
      "7           ResNet152  0.903846         0.907452      0.886325  0.894906   \n",
      "8         ResNet152V2  0.921474         0.925611      0.906410  0.914433   \n",
      "9         InceptionV3  0.883013         0.879469      0.868803  0.873514   \n",
      "10  InceptionResNetV2  0.905449         0.903299      0.893590  0.897964   \n",
      "11          MobileNet  0.939103         0.938750      0.930769  0.934465   \n",
      "12        MobileNetV2  0.870192         0.902233      0.831197  0.850394   \n",
      "13        DenseNet121  0.903846         0.905431      0.888034  0.895329   \n",
      "14        DenseNet169  0.876603         0.893487      0.845726  0.861010   \n",
      "15        DenseNet201  0.913462         0.915158      0.899145  0.905982   \n",
      "16       NASNetMobile  0.895833         0.907427      0.871368  0.884302   \n",
      "\n",
      "    Weighted Precision  Weighted Recall  Weighted F1  \n",
      "0             0.898609         0.899038     0.898624  \n",
      "1             0.919741         0.916667     0.915143  \n",
      "2             0.924628         0.924679     0.924221  \n",
      "3             0.924531         0.924679     0.924297  \n",
      "4             0.934530         0.934295     0.933827  \n",
      "5             0.917338         0.916667     0.915754  \n",
      "6             0.914147         0.910256     0.908376  \n",
      "7             0.904748         0.903846     0.902569  \n",
      "8             0.922416         0.921474     0.920570  \n",
      "9             0.882441         0.883013     0.882180  \n",
      "10            0.905142         0.905449     0.904873  \n",
      "11            0.939062         0.939103     0.938823  \n",
      "12            0.885460         0.870192     0.864000  \n",
      "13            0.904195         0.903846     0.902793  \n",
      "14            0.883434         0.876603     0.872649  \n",
      "15            0.913808         0.913462     0.912612  \n",
      "16            0.899828         0.895833     0.893433  \n"
     ]
    }
   ],
   "source": [
    "import os\n",
    "import shutil\n",
    "import random\n",
    "import numpy as np\n",
    "import pandas as pd\n",
    "import tensorflow as tf\n",
    "from sklearn.metrics import classification_report, accuracy_score\n",
    "from tensorflow.keras.preprocessing.image import ImageDataGenerator\n",
    "from tensorflow.keras.applications import (\n",
    "    VGG16, VGG19, ResNet50, ResNet50V2, ResNet101, ResNet101V2, ResNet152, ResNet152V2,\n",
    "    InceptionV3, InceptionResNetV2, Xception,\n",
    "    MobileNet, MobileNetV2,\n",
    "    DenseNet121, DenseNet169, DenseNet201,\n",
    "    NASNetMobile\n",
    ")\n",
    "from tensorflow.keras.applications.vgg16 import preprocess_input as vgg_preprocess\n",
    "from tensorflow.keras.applications.vgg19 import preprocess_input as vgg19_preprocess\n",
    "from tensorflow.keras.applications.resnet import preprocess_input as resnet_preprocess\n",
    "from tensorflow.keras.applications.resnet_v2 import preprocess_input as resnetv2_preprocess\n",
    "from tensorflow.keras.applications.inception_v3 import preprocess_input as inception_preprocess\n",
    "from tensorflow.keras.applications.inception_resnet_v2 import preprocess_input as inceptionresnet_preprocess\n",
    "from tensorflow.keras.applications.xception import preprocess_input as xception_preprocess\n",
    "from tensorflow.keras.applications.mobilenet import preprocess_input as mobilenet_preprocess\n",
    "from tensorflow.keras.applications.mobilenet_v2 import preprocess_input as mobilenetv2_preprocess\n",
    "from tensorflow.keras.applications.densenet import preprocess_input as densenet_preprocess\n",
    "from tensorflow.keras.applications.nasnet import preprocess_input as nasnet_preprocess\n",
    "from tensorflow.keras.models import Model\n",
    "from tensorflow.keras.layers import Dense, GlobalAveragePooling2D\n",
    "from tensorflow.keras.callbacks import EarlyStopping, ReduceLROnPlateau\n",
    "from tensorflow.keras.optimizers import Adam\n",
    "\n",
    "# Set seeds for reproducibility\n",
    "SEED = 42\n",
    "os.environ['PYTHONHASHSEED'] = str(SEED)\n",
    "random.seed(SEED)\n",
    "np.random.seed(SEED)\n",
    "tf.random.set_seed(SEED)\n",
    "\n",
    "# Training source directories\n",
    "train_sources = [\n",
    "    '/kaggle/input/chestxray-augment/train',\n",
    "    '/kaggle/input/chest-xray-pneumonia/chest_xray/train',\n",
    "    '/kaggle/input/dcgan-pneumonia/chest_xray/train'\n",
    "]\n",
    "\n",
    "# Test directory (unchanged)\n",
    "test_dir = '/kaggle/input/chest-xray-pneumonia/chest_xray/test'\n",
    "\n",
    "# Combined training directory\n",
    "combined_train_dir = '/kaggle/working/combined_train'\n",
    "\n",
    "# Image and training parameters\n",
    "BATCH_SIZE = 32\n",
    "EPOCHS = 64\n",
    "IMG_SIZE = (224, 224)\n",
    "\n",
    "# Combine all training sources into one directory\n",
    "if os.path.exists(combined_train_dir):\n",
    "    shutil.rmtree(combined_train_dir)\n",
    "\n",
    "os.makedirs(os.path.join(combined_train_dir, 'NORMAL'))\n",
    "os.makedirs(os.path.join(combined_train_dir, 'PNEUMONIA'))\n",
    "\n",
    "def copy_images(src_dir, dest_dir):\n",
    "    for label in ['NORMAL', 'PNEUMONIA']:\n",
    "        src_label_dir = os.path.join(src_dir, label)\n",
    "        dest_label_dir = os.path.join(dest_dir, label)\n",
    "        if os.path.exists(src_label_dir):\n",
    "            for fname in os.listdir(src_label_dir):\n",
    "                src_path = os.path.join(src_label_dir, fname)\n",
    "                dest_path = os.path.join(dest_label_dir, fname)\n",
    "                if os.path.isfile(src_path):\n",
    "                    shutil.copy(src_path, dest_path)\n",
    "\n",
    "# Copy from all sources\n",
    "for src in train_sources:\n",
    "    copy_images(src, combined_train_dir)\n",
    "\n",
    "# Data Generators\n",
    "def get_generators(preprocess_func):\n",
    "    train_gen = ImageDataGenerator(\n",
    "        preprocessing_function=preprocess_func,\n",
    "        horizontal_flip=True,\n",
    "        zoom_range=0.2,\n",
    "        rotation_range=15\n",
    "    ).flow_from_directory(\n",
    "        combined_train_dir,\n",
    "        target_size=IMG_SIZE,\n",
    "        batch_size=BATCH_SIZE,\n",
    "        class_mode='binary',\n",
    "        seed=SEED\n",
    "    )\n",
    "\n",
    "    test_gen = ImageDataGenerator(\n",
    "        preprocessing_function=preprocess_func\n",
    "    ).flow_from_directory(\n",
    "        test_dir,\n",
    "        target_size=IMG_SIZE,\n",
    "        batch_size=BATCH_SIZE,\n",
    "        class_mode='binary',\n",
    "        shuffle=False\n",
    "    )\n",
    "    return train_gen, test_gen\n",
    "\n",
    "# Build classifier head\n",
    "def build_model(base_model):\n",
    "    x = base_model.output\n",
    "    x = GlobalAveragePooling2D()(x)\n",
    "    x = Dense(128, activation='relu')(x)\n",
    "    output = Dense(1, activation='sigmoid')(x)\n",
    "    model = Model(inputs=base_model.input, outputs=output)\n",
    "    return model\n",
    "\n",
    "# Models Dictionary\n",
    "models = {\n",
    "    'Xception': (Xception(weights='imagenet', include_top=False, input_shape=(224,224,3)), xception_preprocess),\n",
    "    'VGG16': (VGG16(weights='imagenet', include_top=False, input_shape=(224,224,3)), vgg_preprocess),\n",
    "    'VGG19': (VGG19(weights='imagenet', include_top=False, input_shape=(224,224,3)), vgg19_preprocess),\n",
    "    'ResNet50': (ResNet50(weights='imagenet', include_top=False, input_shape=(224,224,3)), resnet_preprocess),\n",
    "    'ResNet50V2': (ResNet50V2(weights='imagenet', include_top=False, input_shape=(224,224,3)), resnetv2_preprocess),\n",
    "    'ResNet101': (ResNet101(weights='imagenet', include_top=False, input_shape=(224,224,3)), resnet_preprocess),\n",
    "    'ResNet101V2': (ResNet101V2(weights='imagenet', include_top=False, input_shape=(224,224,3)), resnetv2_preprocess),\n",
    "    'ResNet152': (ResNet152(weights='imagenet', include_top=False, input_shape=(224,224,3)), resnet_preprocess),\n",
    "    'ResNet152V2': (ResNet152V2(weights='imagenet', include_top=False, input_shape=(224,224,3)), resnetv2_preprocess),\n",
    "    'InceptionV3': (InceptionV3(weights='imagenet', include_top=False, input_shape=(224,224,3)), inception_preprocess),\n",
    "    'InceptionResNetV2': (InceptionResNetV2(weights='imagenet', include_top=False, input_shape=(224,224,3)), inceptionresnet_preprocess),\n",
    "    'MobileNet': (MobileNet(weights='imagenet', include_top=False, input_shape=(224,224,3)), mobilenet_preprocess),\n",
    "    'MobileNetV2': (MobileNetV2(weights='imagenet', include_top=False, input_shape=(224,224,3)), mobilenetv2_preprocess),\n",
    "    'DenseNet121': (DenseNet121(weights='imagenet', include_top=False, input_shape=(224,224,3)), densenet_preprocess),\n",
    "    'DenseNet169': (DenseNet169(weights='imagenet', include_top=False, input_shape=(224,224,3)), densenet_preprocess),\n",
    "    'DenseNet201': (DenseNet201(weights='imagenet', include_top=False, input_shape=(224,224,3)), densenet_preprocess),\n",
    "    'NASNetMobile': (NASNetMobile(weights='imagenet', include_top=False, input_shape=(224,224,3)), nasnet_preprocess),\n",
    "}\n",
    "\n",
    "# Callbacks\n",
    "early_stop = EarlyStopping(monitor='val_loss', patience=3, restore_best_weights=True)\n",
    "reduce_lr = ReduceLROnPlateau(monitor='val_loss', patience=2, factor=0.2)\n",
    "\n",
    "# Result storage\n",
    "report_rows = []\n",
    "\n",
    "# Training and Evaluation Loop\n",
    "for model_name, (base_model, preprocess_func) in models.items():\n",
    "    print(f\"\\n🔧 Training model: {model_name}\")\n",
    "    train_gen, test_gen = get_generators(preprocess_func)\n",
    "    model = build_model(base_model)\n",
    "\n",
    "    for layer in base_model.layers:\n",
    "        layer.trainable = False\n",
    "\n",
    "    model.compile(optimizer=Adam(learning_rate=0.001), loss='binary_crossentropy', metrics=['accuracy'])\n",
    "\n",
    "    model.fit(\n",
    "        train_gen,\n",
    "        epochs=EPOCHS,\n",
    "        validation_data=test_gen,\n",
    "        callbacks=[early_stop, reduce_lr],\n",
    "        verbose=2\n",
    "    )\n",
    "\n",
    "    predictions = model.predict(test_gen, verbose=0)\n",
    "    predicted_labels = (predictions > 0.5).astype(int).ravel()\n",
    "    true_labels = test_gen.classes\n",
    "\n",
    "    accuracy = accuracy_score(true_labels, predicted_labels)\n",
    "    report = classification_report(true_labels, predicted_labels, digits=6, output_dict=True)\n",
    "\n",
    "    row = {\n",
    "        'Model': model_name,\n",
    "        'Accuracy': accuracy,\n",
    "        'Macro Precision': report['macro avg']['precision'],\n",
    "        'Macro Recall': report['macro avg']['recall'],\n",
    "        'Macro F1': report['macro avg']['f1-score'],\n",
    "        'Weighted Precision': report['weighted avg']['precision'],\n",
    "        'Weighted Recall': report['weighted avg']['recall'],\n",
    "        'Weighted F1': report['weighted avg']['f1-score'],\n",
    "    }\n",
    "\n",
    "    report_rows.append(row)\n",
    "\n",
    "# Save to CSV\n",
    "df_report = pd.DataFrame(report_rows)\n",
    "df_report.to_csv('/kaggle/working/classification_summary.csv', index=False)\n",
    "print(\"✅ Saved summary to /kaggle/working/classification_summary.csv\")\n",
    "print(\"📊 Classification Summary:\")\n",
    "print(df_report)\n"
   ]
  }
 ],
 "metadata": {
  "kaggle": {
   "accelerator": "gpu",
   "dataSources": [
    {
     "datasetId": 17810,
     "sourceId": 23812,
     "sourceType": "datasetVersion"
    },
    {
     "datasetId": 7911118,
     "sourceId": 12531994,
     "sourceType": "datasetVersion"
    },
    {
     "datasetId": 7893274,
     "sourceId": 12506172,
     "sourceType": "datasetVersion"
    }
   ],
   "dockerImageVersionId": 31090,
   "isGpuEnabled": true,
   "isInternetEnabled": true,
   "language": "python",
   "sourceType": "notebook"
  },
  "kernelspec": {
   "display_name": "Python 3",
   "language": "python",
   "name": "python3"
  },
  "language_info": {
   "codemirror_mode": {
    "name": "ipython",
    "version": 3
   },
   "file_extension": ".py",
   "mimetype": "text/x-python",
   "name": "python",
   "nbconvert_exporter": "python",
   "pygments_lexer": "ipython3",
   "version": "3.11.13"
  },
  "papermill": {
   "default_parameters": {},
   "duration": 29295.729786,
   "end_time": "2025-07-21T16:59:58.932236",
   "environment_variables": {},
   "exception": null,
   "input_path": "__notebook__.ipynb",
   "output_path": "__notebook__.ipynb",
   "parameters": {},
   "start_time": "2025-07-21T08:51:43.202450",
   "version": "2.6.0"
  }
 },
 "nbformat": 4,
 "nbformat_minor": 5
}
